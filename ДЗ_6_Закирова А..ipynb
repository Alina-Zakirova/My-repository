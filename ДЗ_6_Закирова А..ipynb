{
 "cells": [
  {
   "cell_type": "markdown",
   "metadata": {},
   "source": [
    "Задание 1"
   ]
  },
  {
   "cell_type": "code",
   "execution_count": 5,
   "metadata": {},
   "outputs": [
    {
     "name": "stdout",
     "output_type": "stream",
     "text": [
      "Валюта с максимальным курсом: СДР (специальные права заимствования)\n"
     ]
    }
   ],
   "source": [
    "import requests \n",
    "\n",
    "class CurrencyRate:\n",
    "    def __init__(self):\n",
    "        self.url = 'https://www.cbr-xml-daily.ru/daily_json.js'\n",
    "        self.data = self.get_currency_data()\n",
    "\n",
    "    def get_currency_data(self):\n",
    "        response = requests.get(self.url)\n",
    "        return response.json()\n",
    "\n",
    "    def get_currency_with_max_rate(self):\n",
    "        max_currency_name = ''\n",
    "        max_currency_value = 0\n",
    "\n",
    "        for currency_code, currency_info in self.data['Valute'].items():\n",
    "            if currency_info['Value'] > max_currency_value:\n",
    "                max_currency_value = currency_info['Value']\n",
    "                max_currency_name = currency_info['Name']\n",
    "\n",
    "        return max_currency_name\n",
    "\n",
    "# Пример использования\n",
    "if __name__ == '__main__':\n",
    "    currency_rate = CurrencyRate()\n",
    "    max_currency = currency_rate.get_currency_with_max_rate()\n",
    "    print(f'Валюта с максимальным курсом: {max_currency}')\n"
   ]
  }
 ],
 "metadata": {
  "kernelspec": {
   "display_name": "zar",
   "language": "python",
   "name": "zar"
  },
  "language_info": {
   "codemirror_mode": {
    "name": "ipython",
    "version": 3
   },
   "file_extension": ".py",
   "mimetype": "text/x-python",
   "name": "python",
   "nbconvert_exporter": "python",
   "pygments_lexer": "ipython3",
   "version": "3.12.6"
  }
 },
 "nbformat": 4,
 "nbformat_minor": 2
}
