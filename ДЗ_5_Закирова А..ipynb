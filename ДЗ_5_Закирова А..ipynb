{
 "cells": [
  {
   "cell_type": "markdown",
   "metadata": {},
   "source": [
    "Задание 1"
   ]
  },
  {
   "cell_type": "code",
   "execution_count": 5,
   "metadata": {},
   "outputs": [
    {
     "name": "stdout",
     "output_type": "stream",
     "text": [
      "The Moscow Times: 2002-10-02 00:00:00\n",
      "The Guardian: 2013-10-11 00:00:00\n",
      "Daily News: 1977-08-18 00:00:00\n"
     ]
    }
   ],
   "source": [
    "from datetime import datetime\n",
    "\n",
    "# Определяем форматы дат для каждой газеты\n",
    "formats = {\n",
    "    \"The Moscow Times\": \"%A, %B %d, %Y\",  # \"Wednesday, October 2, 2002\"\n",
    "    \"The Guardian\": \"%A, %d.%m.%y\",  # \"Friday, 11.10.13\"\n",
    "    \"Daily News\": \"%A, %d %B %Y\",  # \"Thursday, 18 August 1977\"\n",
    "}\n",
    "\n",
    "# Даты для каждой газеты\n",
    "dates = {\n",
    "    \"The Moscow Times\": \"Wednesday, October 2, 2002\",\n",
    "    \"The Guardian\": \"Friday, 11.10.13\",\n",
    "    \"Daily News\": \"Thursday, 18 August 1977\",\n",
    "}\n",
    "\n",
    "# Преобразуем строки с датами в объекты datetime\n",
    "for newspaper, date_string in dates.items():\n",
    "    format_str = formats[newspaper]\n",
    "    date_obj = datetime.strptime(date_string, format_str)\n",
    "    print(f\"{newspaper}: {date_obj}\")"
   ]
  },
  {
   "cell_type": "markdown",
   "metadata": {},
   "source": [
    "Задание 2"
   ]
  },
  {
   "cell_type": "code",
   "execution_count": 38,
   "metadata": {},
   "outputs": [
    {
     "name": "stdout",
     "output_type": "stream",
     "text": [
      "['2022-01-01', '2022-01-02', '2022-01-03']\n"
     ]
    }
   ],
   "source": [
    "from datetime import datetime, timedelta\n",
    "\n",
    "def date_range(start_date, end_date):\n",
    "    try:    \n",
    "            start_date = datetime.strptime(start_date, \"%Y-%m-%d\")\n",
    "            end_date = datetime.strptime(end_date, \"%Y-%m-%d\")\n",
    "            dates = list()\n",
    "            if start_date > end_date:\n",
    "                return []\n",
    "            else:\n",
    "                i = start_date\n",
    "                while i <= end_date:\n",
    "                    dates.append(i)\n",
    "                    i += timedelta(days=1)\n",
    "            return [f.strftime(\"%Y-%m-%d\") for f in dates]\n",
    "    except:\n",
    "        return []   \n",
    "\n",
    "print(date_range('2022-01-01', '2022-01-03'))"
   ]
  }
 ],
 "metadata": {
  "kernelspec": {
   "display_name": "your_kernel_name",
   "language": "python",
   "name": "your_kernel_name"
  },
  "language_info": {
   "codemirror_mode": {
    "name": "ipython",
    "version": 3
   },
   "file_extension": ".py",
   "mimetype": "text/x-python",
   "name": "python",
   "nbconvert_exporter": "python",
   "pygments_lexer": "ipython3",
   "version": "3.12.6"
  }
 },
 "nbformat": 4,
 "nbformat_minor": 2
}
