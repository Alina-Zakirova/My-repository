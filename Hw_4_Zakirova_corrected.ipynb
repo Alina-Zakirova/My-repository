{
 "cells": [
  {
   "cell_type": "markdown",
   "metadata": {},
   "source": [
    "Задание 1"
   ]
  },
  {
   "cell_type": "code",
   "execution_count": 8,
   "metadata": {},
   "outputs": [
    {
     "name": "stdout",
     "output_type": "stream",
     "text": [
      "1840e0b9d4: 'Продукты'\n",
      "4e4f90fcfb: 'Электроника'\n"
     ]
    }
   ],
   "source": [
    "import json\n",
    "\n",
    "# Инициализация пустого словаря для хранения данных\n",
    "purchases = {}\n",
    "\n",
    "# Открытие файла для чтения\n",
    "with open(r\"C:\\Users\\Admin\\Downloads\\purchase_log.txt\", encoding=\"utf-8\") as f:\n",
    "    for line in f:\n",
    "        # Загрузка каждой строки как JSON-объект\n",
    "        record = json.loads(line)\n",
    "\n",
    "        # Извлечение user_id и category\n",
    "        user_id = record.get(\"user_id\")\n",
    "        category = record.get(\"category\")\n",
    "\n",
    "        # Добавление в словарь\n",
    "        purchases[user_id] = category\n",
    "\n",
    "# Вывод первых двух элементов словаря purchases\n",
    "for i, (key, value) in enumerate(purchases.items()):\n",
    "    if i == 0:\n",
    "        continue\n",
    "    if i < 3:  # выводим только первые два элемента\n",
    "        print(f\"{key}: '{value}'\")\n",
    "    else:\n",
    "        break"
   ]
  }
 ],
 "metadata": {
  "kernelspec": {
   "display_name": "zar",
   "language": "python",
   "name": "zar"
  },
  "language_info": {
   "codemirror_mode": {
    "name": "ipython",
    "version": 3
   },
   "file_extension": ".py",
   "mimetype": "text/x-python",
   "name": "python",
   "nbconvert_exporter": "python",
   "pygments_lexer": "ipython3",
   "version": "3.12.6"
  }
 },
 "nbformat": 4,
 "nbformat_minor": 2
}
