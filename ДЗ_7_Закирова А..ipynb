{
 "cells": [
  {
   "cell_type": "markdown",
   "metadata": {},
   "source": [
    "Задание 1"
   ]
  },
  {
   "cell_type": "code",
   "execution_count": 31,
   "metadata": {},
   "outputs": [
    {
     "name": "stdout",
     "output_type": "stream",
     "text": [
      "Номер А222ВС валиден. Регион: 96\n",
      "Номер не валиден.\n"
     ]
    }
   ],
   "source": [
    "import re\n",
    "\n",
    "def check_car_number(car_id):\n",
    "    \"\"\"\n",
    "    Проверяет, является ли строка валидным транспортным номером\n",
    "    (1 буква, 3 цифры, 2 буквы, 2–3 цифры) и разделяет его на номер и регион.\n",
    "    \"\"\"\n",
    "    pattern = r'^([АВЕКМНОРСТУХ]\\d{3}[АВЕКМНОРСТУХ]{2})(\\d{2,3})$'\n",
    "    match = re.match(pattern, car_id)\n",
    "    match = re.match(pattern, car_id)\n",
    "\n",
    "    if match:\n",
    "        number = match.group(1)\n",
    "        region = match.group(2)\n",
    "        print(f\"Номер {number} валиден. Регион: {region}\")\n",
    "    else:\n",
    "        print(\"Номер не валиден.\")\n",
    "\n",
    "# Примеры использования\n",
    "car_id1 = 'А222ВС96'\n",
    "check_car_number(car_id1)\n",
    "\n",
    "car_id2 = 'АБ22ВВ193'\n",
    "check_car_number(car_id2)"
   ]
  }
 ],
 "metadata": {
  "kernelspec": {
   "display_name": "zar",
   "language": "python",
   "name": "zar"
  },
  "language_info": {
   "codemirror_mode": {
    "name": "ipython",
    "version": 3
   },
   "file_extension": ".py",
   "mimetype": "text/x-python",
   "name": "python",
   "nbconvert_exporter": "python",
   "pygments_lexer": "ipython3",
   "version": "3.12.6"
  }
 },
 "nbformat": 4,
 "nbformat_minor": 2
}
