{
 "cells": [
  {
   "cell_type": "markdown",
   "metadata": {},
   "source": [
    "Задание 1"
   ]
  },
  {
   "cell_type": "code",
   "execution_count": 22,
   "metadata": {},
   "outputs": [
    {
     "data": {
      "text/plain": [
       "movieId                                 318\n",
       "count                                   153\n",
       "title      Shawshank Redemption, The (1994)\n",
       "genres                          Crime|Drama\n",
       "Name: 0, dtype: object"
      ]
     },
     "execution_count": 22,
     "metadata": {},
     "output_type": "execute_result"
    }
   ],
   "source": [
    "import pandas as pd\n",
    "\n",
    "data = pd.read_csv(r'C:\\Users\\Admin\\Downloads\\ratings.csv', sep=\",\", encoding=\"utf-8\")\n",
    "movies = pd.read_csv(r\"C:\\Users\\Admin\\Downloads\\movies.csv\", sep=\",\", encoding=\"utf-8\")\n",
    "\n",
    "ratings_5 = data[data[\"rating\"] == 5.0]\n",
    "ratings_count_5 = ratings_5[\"movieId\"].value_counts()\n",
    "ratings_count_5 = ratings_count_5.reset_index()\n",
    "ratings_count_5.columns = [\"movieId\", \"count\"]\n",
    "\n",
    "result = pd.merge(ratings_count_5, movies, on=\"movieId\")\n",
    "\n",
    "most_rated_movie = result.loc[result[\"count\"].idxmax()]\n",
    "most_rated_movie"
   ]
  },
  {
   "cell_type": "markdown",
   "metadata": {},
   "source": [
    "Задание 2"
   ]
  },
  {
   "cell_type": "code",
   "execution_count": 37,
   "metadata": {},
   "outputs": [
    {
     "data": {
      "text/plain": [
       "240481.0"
      ]
     },
     "execution_count": 37,
     "metadata": {},
     "output_type": "execute_result"
    }
   ],
   "source": [
    "import pandas as pd \n",
    "\n",
    "df = pd.read_csv(r'C:\\Users\\Admin\\Downloads\\power.csv', sep=',', encoding='utf-8')\n",
    "\n",
    "selected_countries = df[df['country'].isin(['Latvia', 'Lithuania', 'Estonia']) \n",
    "                      & df['category'].isin([4, 12, 21]) \n",
    "                      & df['year'].isin([2005, 2006, 2007, 2008, 2009, 2010])\n",
    "                      & df['quantity'] > 0]\n",
    "\n",
    "result = float(selected_countries['quantity'].sum())\n",
    "result"
   ]
  }
 ],
 "metadata": {
  "kernelspec": {
   "display_name": "zar",
   "language": "python",
   "name": "zar"
  },
  "language_info": {
   "codemirror_mode": {
    "name": "ipython",
    "version": 3
   },
   "file_extension": ".py",
   "mimetype": "text/x-python",
   "name": "python",
   "nbconvert_exporter": "python",
   "pygments_lexer": "ipython3",
   "version": "3.12.6"
  }
 },
 "nbformat": 4,
 "nbformat_minor": 2
}
